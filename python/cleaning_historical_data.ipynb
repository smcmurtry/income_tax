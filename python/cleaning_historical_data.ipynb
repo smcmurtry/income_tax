{
 "cells": [
  {
   "cell_type": "markdown",
   "metadata": {},
   "source": [
    "# Cleaning Income Tax Data"
   ]
  },
  {
   "cell_type": "code",
   "execution_count": 1,
   "metadata": {
    "collapsed": false
   },
   "outputs": [],
   "source": [
    "import pandas as pd\n",
    "import urllib\n",
    "import os"
   ]
  },
  {
   "cell_type": "markdown",
   "metadata": {},
   "source": [
    "2004 to 2008 statistics were based on a stratified random sample of individual income tax and benefit returns. However, beginning with the 2009 tax year, Final Statistics contains data based on all of the returns filed. The most recent assessment is used in the compilation of the statistics."
   ]
  },
  {
   "cell_type": "code",
   "execution_count": 10,
   "metadata": {
    "collapsed": false
   },
   "outputs": [],
   "source": [
    "tax_by_income_url = {2004: \"http://www.cra-arc.gc.ca/gncy/stts/gb04/pst/fnl/csv/table2.csv\",\n",
    "                     2005: \"http://www.cra-arc.gc.ca/gncy/stts/gb05/pst/fnl/csv/table2.csv\",\n",
    "                     2006: \"http://www.cra-arc.gc.ca/gncy/stts/gb06/pst/fnl/csv/t02ca.csv\",\n",
    "                     2007: \"http://www.cra-arc.gc.ca/gncy/stts/gb07/pst/fnl/csv/t02ca.csv\",\n",
    "                     2008: \"http://www.cra-arc.gc.ca/gncy/stts/gb08/pst/fnl/csv/t02ca.csv\",\n",
    "                     2009: \"http://www.cra-arc.gc.ca/gncy/stts/gb09/pst/fnl/csv/t02ca.csv\",\n",
    "                     2010: \"http://www.cra-arc.gc.ca/gncy/stts/gb10/pst/fnl/csv/t02ca.csv\",\n",
    "                     2011: \"http://www.cra-arc.gc.ca/gncy/stts/gb11/pst/fnl/csv/t02ca.csv\",\n",
    "                     2012: \"http://www.cra-arc.gc.ca/gncy/stts/prlmnry/2012/tbl2-eng.csv\"} # preliminary data\n",
    "\n",
    "column_dictionary_04_08 = 'http://www.cra-arc.gc.ca/gncy/stts/gb04/pst/fnl/tb2_f1-f7-eng.html'"
   ]
  },
  {
   "cell_type": "markdown",
   "metadata": {},
   "source": [
    "## Preliminary cleaning"
   ]
  },
  {
   "cell_type": "code",
   "execution_count": 11,
   "metadata": {
    "collapsed": false
   },
   "outputs": [],
   "source": [
    "def delete_extra_cols(df):\n",
    "    columns2delete = [col for col in df.columns if '_r' in col or '_l' in col or 'Unnamed' in col] \n",
    "    for col in columns2delete: del df[col]\n",
    "    return df\n",
    "\n",
    "def clean_the_df(rough_df, header_lines):\n",
    "    length_of_dataframe = header_lines[1] - 1\n",
    "    temp_filenames = []\n",
    "    for n, i in enumerate(header_lines):\n",
    "        filename = '../data/test_' + str(n) + '.csv'\n",
    "        if n == 0:\n",
    "            rough_df[i:length_of_dataframe].to_csv(filename, index=False)\n",
    "        else:\n",
    "            rough_df[i-1:i+length_of_dataframe].to_csv(filename, header=False, index=False)\n",
    "        temp_filenames.append(filename)\n",
    "\n",
    "    for n, filename in enumerate(temp_filenames):\n",
    "        if n == 0: clean_df = pd.DataFrame.from_csv(filename, index_col=None)\n",
    "        else: clean_df = clean_df.join(pd.DataFrame.from_csv(filename, index_col=None), \n",
    "                                   lsuffix='_l' + str(n), rsuffix='_r' + str(n))\n",
    "        os.remove(filename)\n",
    "    \n",
    "    return clean_df"
   ]
  },
  {
   "cell_type": "code",
   "execution_count": 12,
   "metadata": {
    "collapsed": false
   },
   "outputs": [],
   "source": [
    "def write_online_table_to_file(url, datafile_name):\n",
    "    page = urllib.urlopen(url).read()\n",
    "    f = open(datafile_name, 'w')\n",
    "    f.write(page)\n",
    "    f.close()\n",
    "    return datafile_name"
   ]
  },
  {
   "cell_type": "markdown",
   "metadata": {},
   "source": [
    "## Save the online tables to files"
   ]
  },
  {
   "cell_type": "markdown",
   "metadata": {},
   "source": [
    "#### 2012 data (preliminary)"
   ]
  },
  {
   "cell_type": "code",
   "execution_count": 5,
   "metadata": {
    "collapsed": false
   },
   "outputs": [],
   "source": [
    "write_online_table_to_file(tax_by_income_url[2012], \"../data/raw_tax_data_2012.csv\")\n",
    "df12 = pd.DataFrame.from_csv(\"../data/raw_tax_data_2012.csv\", index_col=None)\n",
    "df12.to_csv('../data/cleaned_tax_data_2012.csv')"
   ]
  },
  {
   "cell_type": "markdown",
   "metadata": {},
   "source": [
    "#### 2011 data"
   ]
  },
  {
   "cell_type": "code",
   "execution_count": 6,
   "metadata": {
    "collapsed": false
   },
   "outputs": [],
   "source": [
    "write_online_table_to_file(tax_by_income_url[2011], \"../data/raw_tax_data_2011.csv\")\n",
    "df11 = pd.DataFrame.from_csv(\"../data/raw_tax_data_2011.csv\", index_col=None)\n",
    "df11.to_csv('../data/cleaned_tax_data_2011.csv')"
   ]
  },
  {
   "cell_type": "markdown",
   "metadata": {},
   "source": [
    "#### 2010 data"
   ]
  },
  {
   "cell_type": "code",
   "execution_count": 7,
   "metadata": {
    "collapsed": false
   },
   "outputs": [],
   "source": [
    "write_online_table_to_file(tax_by_income_url[2010], \"../data/raw_tax_data_2010.csv\")\n",
    "rough_df = pd.DataFrame.from_csv(\"../data/raw_tax_data_2010.csv\", index_col=None)"
   ]
  },
  {
   "cell_type": "code",
   "execution_count": 8,
   "metadata": {
    "collapsed": false
   },
   "outputs": [],
   "source": [
    "header_lines = rough_df.query(\"code2 == '1'\").index\n",
    "df10 = clean_the_df(rough_df, header_lines)\n",
    "df10['Item'] = df10['item_e_r1']\n",
    "df10 = delete_extra_cols(df10)\n",
    "df10.to_csv('../data/cleaned_tax_data_2010.csv')"
   ]
  },
  {
   "cell_type": "markdown",
   "metadata": {},
   "source": [
    "#### 2009 data"
   ]
  },
  {
   "cell_type": "code",
   "execution_count": 9,
   "metadata": {
    "collapsed": false
   },
   "outputs": [],
   "source": [
    "write_online_table_to_file(tax_by_income_url[2009], \"../data/raw_tax_data_2009.csv\")\n",
    "rough_df = pd.DataFrame.from_csv(\"../data/raw_tax_data_2009.csv\", index_col=None)"
   ]
  },
  {
   "cell_type": "code",
   "execution_count": 10,
   "metadata": {
    "collapsed": false
   },
   "outputs": [],
   "source": [
    "header_lines = rough_df.query(\"CODE2 == '1'\").index\n",
    "df09 = clean_the_df(rough_df, header_lines)\n",
    "df09['Item'] = df09['iteme_r1']\n",
    "df09 = delete_extra_cols(df09)\n",
    "df09.to_csv('../data/cleaned_tax_data_2009.csv')"
   ]
  },
  {
   "cell_type": "markdown",
   "metadata": {},
   "source": [
    "#### 2004 - 2008 data"
   ]
  },
  {
   "cell_type": "code",
   "execution_count": 16,
   "metadata": {
    "collapsed": false
   },
   "outputs": [],
   "source": [
    "def save_rough_files(year):\n",
    "    filename = \"../data/raw_tax_data_\" + str(year) + \".csv\"\n",
    "    write_online_table_to_file(tax_by_income_url[year], filename)\n",
    "    return filename"
   ]
  },
  {
   "cell_type": "code",
   "execution_count": 17,
   "metadata": {
    "collapsed": false
   },
   "outputs": [],
   "source": [
    "f_names = {}\n",
    "for year in [2004, 2005, 2006, 2007, 2008]:\n",
    "    f_names[year] = save_rough_files(year)"
   ]
  },
  {
   "cell_type": "code",
   "execution_count": 19,
   "metadata": {
    "collapsed": false
   },
   "outputs": [],
   "source": [
    "dfd = {}\n",
    "for year in f_names:\n",
    "    dfd[year] = pd.DataFrame.from_csv(f_names[year], index_col=None)"
   ]
  },
  {
   "cell_type": "code",
   "execution_count": 22,
   "metadata": {
    "collapsed": false
   },
   "outputs": [
    {
     "data": {
      "text/plain": [
       "Index([u'F1', u'F2', u'F3', u'F4', u'F5', u'F6', u'CODE1', u'CODE2', u'prove', u'provf', u'taxyr', u'f7'], dtype='object')"
      ]
     },
     "execution_count": 22,
     "metadata": {},
     "output_type": "execute_result"
    }
   ],
   "source": [
    "dfd[2004].columns"
   ]
  },
  {
   "cell_type": "markdown",
   "metadata": {},
   "source": [
    "#### Get a dictionary for the columns"
   ]
  },
  {
   "cell_type": "code",
   "execution_count": 146,
   "metadata": {
    "collapsed": false
   },
   "outputs": [],
   "source": [
    "import col_dict_2004_08"
   ]
  },
  {
   "cell_type": "code",
   "execution_count": 137,
   "metadata": {
    "collapsed": false
   },
   "outputs": [],
   "source": [
    "col_dict = {}\n",
    "for row in col_dict_2004_08.col_dict:\n",
    "    f7_val = row[0]\n",
    "    for i, x in enumerate(row[1:]):\n",
    "        f_col = col_dict_2004_08.list_order[i+1]\n",
    "        col_dict[(f7_val, f_col)] = x"
   ]
  },
  {
   "cell_type": "code",
   "execution_count": 138,
   "metadata": {
    "collapsed": false
   },
   "outputs": [],
   "source": [
    "def flatten_df(stacked_df):\n",
    "    data_cols = ['F1','F2','F3','F4','F5','F6']\n",
    "    df = pd.DataFrame(index=range(len(set(stacked_df['CODE2']))))\n",
    "    df['tax_year'] = pd.Series(index=df.index)\n",
    "    for i in stacked_df.index:\n",
    "        f7_val = stacked_df['f7'][i]\n",
    "        item_num = stacked_df['CODE2'][i]\n",
    "        tax_year = stacked_df['taxyr'][i]\n",
    "        df.ix[item_num-1, 'tax_year'] = tax_year\n",
    "        for c in data_cols:\n",
    "            d = stacked_df[c][i]\n",
    "            key = (str(f7_val), c.lower())\n",
    "            if key == ('8', 'f5'): break\n",
    "            new_col = col_dict[key]\n",
    "            new_col = new_col.replace('$', '')\n",
    "            if new_col not in df.columns: df[new_col] = pd.Series(index=df.index)\n",
    "            df.ix[item_num-1, new_col] = d\n",
    "    return df"
   ]
  },
  {
   "cell_type": "code",
   "execution_count": 139,
   "metadata": {
    "collapsed": false
   },
   "outputs": [],
   "source": [
    "flat_df = {}\n",
    "for year in dfd: flat_df[year] = flatten_df(dfd[year])"
   ]
  },
  {
   "cell_type": "code",
   "execution_count": 140,
   "metadata": {
    "collapsed": false
   },
   "outputs": [],
   "source": [
    "def get_item_dict(df):\n",
    "    item_dict = {}\n",
    "    for i in df.index:\n",
    "        item_dict[df['CODE2'][i]] = df['ITEME'][i]\n",
    "    return item_dict"
   ]
  },
  {
   "cell_type": "code",
   "execution_count": 141,
   "metadata": {
    "collapsed": false
   },
   "outputs": [],
   "source": [
    "item_dict = {}\n",
    "for year in [2005, 2006, 2007, 2008]:\n",
    "    item_dict[year] = get_item_dict(dfd[year])"
   ]
  },
  {
   "cell_type": "markdown",
   "metadata": {},
   "source": [
    "I semi-manually assembled this dictionary from an html table: http://www.cra-arc.gc.ca/gncy/stts/gb04/pst/fnl/tb2-5-eng.html"
   ]
  },
  {
   "cell_type": "code",
   "execution_count": 142,
   "metadata": {
    "collapsed": false
   },
   "outputs": [],
   "source": [
    "import item_dict_2004\n",
    "item_dict[2004] = {}\n",
    "for pair in item_dict_2004.item_dict:\n",
    "    item_dict[2004][pair[1]] = pair[0]"
   ]
  },
  {
   "cell_type": "code",
   "execution_count": 143,
   "metadata": {
    "collapsed": false
   },
   "outputs": [],
   "source": [
    "for year in flat_df:\n",
    "    flat_df[year]['item'] = pd.Series(index=flat_df[year].index)\n",
    "    for i in flat_df[year].index:\n",
    "        flat_df[year].ix[i, 'item'] = item_dict[year][i+1]"
   ]
  },
  {
   "cell_type": "code",
   "execution_count": 147,
   "metadata": {
    "collapsed": false
   },
   "outputs": [],
   "source": [
    "dfo = pd.concat([flat_df[year] for year in flat_df], ignore_index=True)"
   ]
  },
  {
   "cell_type": "code",
   "execution_count": 149,
   "metadata": {
    "collapsed": false
   },
   "outputs": [],
   "source": [
    "dfo.to_csv(\"../data/partially_clean_04_08.csv\")"
   ]
  },
  {
   "cell_type": "markdown",
   "metadata": {},
   "source": [
    "## Save point 1"
   ]
  },
  {
   "cell_type": "code",
   "execution_count": 3,
   "metadata": {
    "collapsed": false
   },
   "outputs": [],
   "source": [
    "dfo = pd.DataFrame.from_csv(\"../data/partially_clean_04_08.csv\")\n",
    "df09 = pd.DataFrame.from_csv('../data/cleaned_tax_data_2009.csv')\n",
    "df10 = pd.DataFrame.from_csv('../data/cleaned_tax_data_2010.csv')\n",
    "df11 = pd.DataFrame.from_csv('../data/cleaned_tax_data_2011.csv')\n",
    "df12 = pd.DataFrame.from_csv('../data/cleaned_tax_data_2012.csv')"
   ]
  },
  {
   "cell_type": "markdown",
   "metadata": {},
   "source": [
    "## Standardize the column names"
   ]
  },
  {
   "cell_type": "code",
   "execution_count": 4,
   "metadata": {
    "collapsed": false
   },
   "outputs": [
    {
     "data": {
      "text/plain": [
       "Index([u'#', u'Item', u'Poste', u'Tax year/D'ann�e d'imposition', u' Grand total/Total global #', u'Grand total/Total global $ (000)', u'4999 and under/Moins de 4 999 #', u'4999 and under/Moins de 4 999 $ (000)', u'5000 - 9999 #', u'5000 - 9999 $ (000)', u'10000 - 14999 #', u'10000 - 14999 $ (000)', u'15000 - 19999 #', u'15000 - 19999 $ (000)', u'20000 - 24999 #', u'20000 - 24999 $ (000)', u'25000 - 29999 #', u'25000 - 29999 $ (000)', u'30000 - 34999 #', u'30000 - 34999 $ (000)', u'35000 - 39999 #', u'35000 - 39999 $ (000)', u'40000 - 44999 #', u'40000 - 44999 $ (000)', u'45000 - 49999 #', u'45000 - 49999 $ (000)', u'50000 - 54999 #', u'50000 - 54999 $ (000)', u'55000 - 59999 #', u'55000 - 59999 $ (000)', u'60000 - 69999 #', u'60000 - 69999 $ (000)', u'70000 - 79999 #', u'70000 - 79999 $ (000)', u'80000 - 89999 #', u'80000 - 89999 $ (000)', u'90000 - 99999 #', u'90000 - 99999 $ (000)', u'100000 - 149999 #', u'100000 - 149999 $ (000)', u'150000 - 249999 #', u'150000 - 249999 $ (000)', u'250000 and over/et plus #', u'250000 and over/et plus $ (000)'], dtype='object')"
      ]
     },
     "execution_count": 4,
     "metadata": {},
     "output_type": "execute_result"
    }
   ],
   "source": [
    "df12.columns"
   ]
  },
  {
   "cell_type": "code",
   "execution_count": 5,
   "metadata": {
    "collapsed": false
   },
   "outputs": [
    {
     "name": "stdout",
     "output_type": "stream",
     "text": [
      "50000 and over/et plus #\n",
      "50000 and over/et plus $ (000)\n"
     ]
    }
   ],
   "source": [
    "for c in df11.columns:\n",
    "    if c not in df12.columns: print c"
   ]
  },
  {
   "cell_type": "code",
   "execution_count": 6,
   "metadata": {
    "collapsed": false
   },
   "outputs": [],
   "source": [
    "for c in df12.columns:\n",
    "    if c not in df11.columns: print c"
   ]
  },
  {
   "cell_type": "code",
   "execution_count": 7,
   "metadata": {
    "collapsed": false
   },
   "outputs": [
    {
     "data": {
      "text/plain": [
       "Index([u'#', u'Item', u'Poste', u'Tax year/D'ann�e d'imposition', u' Grand total/Total global #', u'Grand total/Total global $ (000)', u'4999 and under/Moins de 4 999 #', u'4999 and under/Moins de 4 999 $ (000)', u'5000 - 9999 #', u'5000 - 9999 $ (000)', u'10000 - 14999 #', u'10000 - 14999 $ (000)', u'15000 - 19999 #', u'15000 - 19999 $ (000)', u'20000 - 24999 #', u'20000 - 24999 $ (000)', u'25000 - 29999 #', u'25000 - 29999 $ (000)', u'30000 - 34999 #', u'30000 - 34999 $ (000)', u'35000 - 39999 #', u'35000 - 39999 $ (000)', u'40000 - 44999 #', u'40000 - 44999 $ (000)', u'45000 - 49999 #', u'45000 - 49999 $ (000)', u'50000 - 54999 #', u'50000 - 54999 $ (000)', u'55000 - 59999 #', u'55000 - 59999 $ (000)', u'60000 - 69999 #', u'60000 - 69999 $ (000)', u'70000 - 79999 #', u'70000 - 79999 $ (000)', u'80000 - 89999 #', u'80000 - 89999 $ (000)', u'90000 - 99999 #', u'90000 - 99999 $ (000)', u'100000 - 149999 #', u'100000 - 149999 $ (000)', u'150000 - 249999 #', u'150000 - 249999 $ (000)', u'250000 and over/et plus #', u'250000 and over/et plus $ (000)', u'50000 and over/et plus #', u'50000 and over/et plus $ (000)'], dtype='object')"
      ]
     },
     "execution_count": 7,
     "metadata": {},
     "output_type": "execute_result"
    }
   ],
   "source": [
    "df11.columns"
   ]
  },
  {
   "cell_type": "code",
   "execution_count": 8,
   "metadata": {
    "collapsed": false
   },
   "outputs": [],
   "source": [
    "def clean_2011_2012_dfs(df):\n",
    "    df[\"total #\"] = df[' Grand total/Total global #']\n",
    "    df[\"total $\"] = df['Grand total/Total global $ (000)']\n",
    "    df[\"<4999 #\"] = df['4999 and under/Moins de 4 999 #']\n",
    "    df[\"<4999 $\"] = df['4999 and under/Moins de 4 999 $ (000)']\n",
    "    df['>250000 #'] = df['250000 and over/et plus #']\n",
    "    df['>250000 $'] = df['250000 and over/et plus $ (000)']\n",
    "    return df"
   ]
  },
  {
   "cell_type": "code",
   "execution_count": 9,
   "metadata": {
    "collapsed": false
   },
   "outputs": [],
   "source": [
    "df11 = clean_2011_2012_dfs(df11)\n",
    "df12 = clean_2011_2012_dfs(df12)"
   ]
  },
  {
   "cell_type": "code",
   "execution_count": 10,
   "metadata": {
    "collapsed": false
   },
   "outputs": [
    {
     "data": {
      "text/plain": [
       "Index([u'Grand total/Total global #', u'Grand total/Total global $', u'Loss and nil/Perte et n�ant #', u'Loss and nil/Perte et n�ant $', u'1 - 4999 #', u'1 - 4999 $', u'5000 - 9999 #', u'5000 - 9999 $', u'10000 - 14999 #', u'10000 - 14999 $', u'15000 - 19999 #', u'15000 - 19999 $', u'20000 - 24999 #', u'20000 - 24999 $', u'25000 - 29999 #', u'25000 - 29999 $', u'30000 - 34999 #', u'30000 - 34999 $', u'35000 - 39999 #', u'35000 - 39999 $', u'40000 - 44999 #', u'40000 - 44999 $', u'45000 - 49999 #', u'45000 - 49999 $', u'50000 - 54999 #', u'50000 - 54999 $', u'55000 - 59999 #', u'55000 - 59999 $', u'60000 - 69999 #', u'60000 - 69999 $', u'70000 - 79999 #', u'70000 - 79999 $', u'80000 - 89999 #', u'80000 - 89999 $', u'90000 - 99999 #', u'90000 - 99999 $', u'100000 - 149999 #', u'100000 - 149999 $', u'150000 - 249999 #', u'150000 - 249999 $', u'250000 and over/et plus #', u'250000 and over/et plus $', u'50000 and over/et plus #', u'50000 and over/et plus $', u'Item'], dtype='object')"
      ]
     },
     "execution_count": 10,
     "metadata": {},
     "output_type": "execute_result"
    }
   ],
   "source": [
    "df10.columns"
   ]
  },
  {
   "cell_type": "code",
   "execution_count": 11,
   "metadata": {
    "collapsed": false
   },
   "outputs": [],
   "source": [
    "df10['total #'] = df10['Grand total/Total global #']\n",
    "df10['total $'] = df10['Grand total/Total global $']\n",
    "df10['<4999 #'] = df10[df10.columns[2]] + df10['1 - 4999 #']\n",
    "df10['<4999 $'] = df10[df10.columns[3]] + df10['1 - 4999 $']\n",
    "df10['>250000 #'] = df10['250000 and over/et plus #']\n",
    "df10['>250000 $'] = df10['250000 and over/et plus $']"
   ]
  },
  {
   "cell_type": "code",
   "execution_count": 12,
   "metadata": {
    "collapsed": false
   },
   "outputs": [
    {
     "data": {
      "text/plain": [
       "Index([u'Grand total #/Total global #', u'Grand total $/Total global $', u'Loss and nil #/Perte et n�ant # ', u'Loss and nil $/Perte et n�ant $', u'1 - 4999 #', u'1 - 4999 $', u'5000 - 9999 #', u'5000 - 9999 $', u'10000 - 14999 # ', u'10000 - 14999 $', u'15000 - 19999 #', u'15000 - 19999 $', u'20000 - 24999 #', u'20000 - 24999 $', u'25000 - 29999 #', u'25000 - 29999 $', u'30000 - 34999 #', u'30000 - 34999 $', u'35000 - 39999 #', u'35000 - 39999 $40000 - 44999 #', u'40000 - 44999 #', u'40000 - 44999 $', u'45000 - 49999 #', u'45000 - 49999 $', u'50000 - 54999 #', u'50000 - 54999 $', u'55000 - 59999 #', u'55000 - 59999 $', u'60000 - 69999 #', u'60000 - 69999 $', u'70000 - 79999 #', u'70000 - 79999 $', u'80000 - 89999 #', u'80000 - 89999 $', u'90000 - 99999 #', u'90000 - 99999 $', u'100000 - 149999 #', u'100000 - 149999 $', u'150000 - 249999 #', u'150000 - 249999 $', u'250000 and over #/250 000 et plus #', u'250000 and over $/250 000 et plus $', u'CODE1', u'iteme', u'itemf', u'CODE2', u'Item'], dtype='object')"
      ]
     },
     "execution_count": 12,
     "metadata": {},
     "output_type": "execute_result"
    }
   ],
   "source": [
    "df09.columns"
   ]
  },
  {
   "cell_type": "code",
   "execution_count": 13,
   "metadata": {
    "collapsed": false
   },
   "outputs": [],
   "source": [
    "df09['35000 - 39999 $'] = df09['35000 - 39999 $40000 - 44999 #']\n",
    "df09['10000 - 14999 #'] = df09['10000 - 14999 # ']\n",
    "df09['total #'] = df09['Grand total #/Total global #']\n",
    "df09['total $'] = df09['Grand total $/Total global $']\n",
    "df09['<4999 #'] = df09[df09.columns[2]] + df09['1 - 4999 #']\n",
    "df09['<4999 $'] = df09[df09.columns[3]] + df09['1 - 4999 $']\n",
    "df09['>250000 #'] = df09['250000 and over #/250 000 et plus #']\n",
    "df09['>250000 $'] = df09['250000 and over $/250 000 et plus $']"
   ]
  },
  {
   "cell_type": "code",
   "execution_count": 14,
   "metadata": {
    "collapsed": false
   },
   "outputs": [
    {
     "data": {
      "text/plain": [
       "Index([u'tax_year', u'Loss and nil (number)', u'Loss and nil(amount)', u'1 - 10,000 (number)', u'1 - 10,000 (amount)', u'10,000 - 15,000 (number)', u'10,000 - 15,000 (amount)', u'15,000 - 20,000 (number)', u'15,000 - 20,000 (amount)', u'20,000 - 25,000 (number)', u'20,000 - 25,000 (amount)', u'25,000 - 30,000 (number)', u'25,000 - 30,000 (amount)', u'30,000 - 35,000 (number)', u'30,000 - 35,000 (amount)', u'35,000 - 40,000 (number)', u'35,000 - 40,000 (amount)', u'30,000 - 40,000 (number)', u'30,000 - 40,000 (amount)', u'40,000 - 45,000 (number)', u'40,000 - 45,000 (amount)', u'45,000 - 50,000 (number)', u'45,000 - 50,000 (amount)', u'40,000 - 50,000 (number)', u'40,000 - 50,000 (amount)', u'50,000 - 60,000 (number)', u'50,000 - 60,000 (amount)', u'60,000 - 70,000 (number)', u'60,000 - 70,000 (amount)', u'70,000 - 80,000 (number)', u'70,000 - 80,000 (amount)', u'80,000 - 90,000 (number)', u'80,000 - 90,000 (amount)', u'90,000 - 100,000 (number)', u'90,000 - 100,000 (amount)', u'50,000 - 100,000 (number)', u'50,000 - 100,000 (amount)', u'100,000 - 150,000 (number)', u'100,000 - 150,000 (amount)', u'150,000 - 250,000 (number)', u'150,000 - 250,000 (amount)', u'250,000 and over (number)', u'250,000 and over (amount)', u'50,000 and over (number)', u'50,000 and over(amount)', u'Grand Total (number)', u'Grand total (amount)', u'item'], dtype='object')"
      ]
     },
     "execution_count": 14,
     "metadata": {},
     "output_type": "execute_result"
    }
   ],
   "source": [
    "dfo.columns"
   ]
  },
  {
   "cell_type": "code",
   "execution_count": 15,
   "metadata": {
    "collapsed": false
   },
   "outputs": [],
   "source": [
    "del dfo['50,000 and over (number)']\n",
    "del dfo['50,000 and over(amount)']\n",
    "del dfo['50,000 - 100,000 (number)']\n",
    "del dfo['50,000 - 100,000 (amount)']\n",
    "del dfo['Grand Total (number)']\n",
    "del dfo['Grand total (amount)']\n",
    "del dfo['30,000 - 40,000 (number)']\n",
    "del dfo['30,000 - 40,000 (amount)']\n",
    "del dfo['40,000 - 50,000 (number)']\n",
    "del dfo['40,000 - 50,000 (amount)']"
   ]
  },
  {
   "cell_type": "code",
   "execution_count": 16,
   "metadata": {
    "collapsed": false
   },
   "outputs": [],
   "source": [
    "for c in dfo.columns:\n",
    "    c2 = c.replace('Loss and nil(amount)', 'Loss and nil (amount)')\n",
    "    c2 = c2.replace('250,000 and over', '>250,000')\n",
    "    c2 = c2.replace('(amount)', '$')\n",
    "    c2 = c2.replace('(number)', '#')\n",
    "    c2 = c2.replace(',', '')\n",
    "    c2 = c2.replace('Loss and nil', '<0')\n",
    "    dfo[c2] = dfo[c]\n",
    "    if c != c2: del dfo[c]"
   ]
  },
  {
   "cell_type": "markdown",
   "metadata": {},
   "source": [
    "Create a tax year column so we can combine into a single table"
   ]
  },
  {
   "cell_type": "code",
   "execution_count": 17,
   "metadata": {
    "collapsed": false
   },
   "outputs": [],
   "source": [
    "df12[\"tax_year\"] = pd.Series([2012]*len(df12), index=df12.index)\n",
    "df11[\"tax_year\"] = pd.Series([2011]*len(df11), index=df11.index)\n",
    "df10[\"tax_year\"] = pd.Series([2010]*len(df10), index=df10.index)\n",
    "df09[\"tax_year\"] = pd.Series([2009]*len(df09), index=df09.index)"
   ]
  },
  {
   "cell_type": "markdown",
   "metadata": {},
   "source": [
    "After examining the datafiles, it appears that the dollar columns in all files are in thousands, even though the 2011 file is the only one that says this explicitly. I will remove the ' (000)' from the column titles for the 2011 file, and modify the dollar amounts later."
   ]
  },
  {
   "cell_type": "code",
   "execution_count": 18,
   "metadata": {
    "collapsed": false
   },
   "outputs": [],
   "source": [
    "def remove_thousands(df):\n",
    "    for c in df.columns:\n",
    "        if c.find('$') != -1:\n",
    "            df[c[:-6]] = df[c]\n",
    "    return df"
   ]
  },
  {
   "cell_type": "code",
   "execution_count": 19,
   "metadata": {
    "collapsed": false
   },
   "outputs": [],
   "source": [
    "df11 = remove_thousands(df11)\n",
    "df12 = remove_thousands(df12)"
   ]
  },
  {
   "cell_type": "code",
   "execution_count": 20,
   "metadata": {
    "collapsed": false
   },
   "outputs": [],
   "source": [
    "common_cols = set(df12.columns).intersection(set(df11.columns)).intersection(set(df10.columns)).intersection(set(df09.columns))"
   ]
  },
  {
   "cell_type": "code",
   "execution_count": 21,
   "metadata": {
    "collapsed": false
   },
   "outputs": [],
   "source": [
    "clean_cols = []\n",
    "clean_cols.append('item')\n",
    "clean_cols.append('type')\n",
    "clean_cols.append('tax_year')\n",
    "for c in common_cols:\n",
    "    if '#' in c: clean_cols.append(c[:-2])"
   ]
  },
  {
   "cell_type": "code",
   "execution_count": 22,
   "metadata": {
    "collapsed": false
   },
   "outputs": [],
   "source": [
    "half_n_rows = len(df12) + len(df11) + len(df10) + len(df09)"
   ]
  },
  {
   "cell_type": "code",
   "execution_count": 23,
   "metadata": {
    "collapsed": false
   },
   "outputs": [],
   "source": [
    "df_master = pd.DataFrame(columns=clean_cols, index=range(2*half_n_rows))"
   ]
  },
  {
   "cell_type": "code",
   "execution_count": 24,
   "metadata": {
    "collapsed": false
   },
   "outputs": [],
   "source": [
    "for c in df_master.columns:\n",
    "    if c == 'item':\n",
    "        df_master['item'] = (list(df12['Item']) + list(df11['Item']) + list(df10['Item']) + list(df09['Item']))*2\n",
    "    elif c == 'type':\n",
    "        df_master['type'] = ['#']*half_n_rows + ['$']*half_n_rows\n",
    "    elif c == 'tax_year':\n",
    "        df_master['tax_year'] = (list(df12['tax_year']) + list(df11['tax_year']) + list(df10['tax_year']) + list(df09['tax_year']))*2\n",
    "    else:\n",
    "        df_master[c] = list(df12[c + ' #']) + list(df11[c + ' #']) + list(df10[c + ' #']) + list(df09[c + ' #']) \\\n",
    "        + list(df12[c + ' $']) + list(df11[c + ' $']) + list(df10[c + ' $']) + list(df09[c + ' $'])"
   ]
  },
  {
   "cell_type": "markdown",
   "metadata": {},
   "source": [
    "Now for 2004 - 2008"
   ]
  },
  {
   "cell_type": "code",
   "execution_count": 25,
   "metadata": {
    "collapsed": false
   },
   "outputs": [],
   "source": [
    "new_cols = ['item', 'type', 'tax_year']\n",
    "for c in dfo.columns:\n",
    "    if '#' in c: new_cols.append(c[:-2])"
   ]
  },
  {
   "cell_type": "code",
   "execution_count": 26,
   "metadata": {
    "collapsed": false
   },
   "outputs": [],
   "source": [
    "dfo2 = pd.DataFrame(columns=new_cols, index=range(2*len(dfo)))"
   ]
  },
  {
   "cell_type": "code",
   "execution_count": 27,
   "metadata": {
    "collapsed": false
   },
   "outputs": [],
   "source": [
    "for c in dfo2.columns:\n",
    "    if c == 'item':\n",
    "        dfo2[c] = list(dfo[c]) * 2\n",
    "    elif c == 'tax_year':\n",
    "        dfo2[c] = [int(x) for x in list(dfo[c])] * 2\n",
    "    elif c == 'type':\n",
    "        dfo2[c] = ['#']*len(dfo) + ['$']*len(dfo)\n",
    "    else:\n",
    "        dfo2[c] = list(dfo[c + ' #']) + list(dfo[c + ' $'])"
   ]
  },
  {
   "cell_type": "markdown",
   "metadata": {},
   "source": [
    "## Making the column headings more readable"
   ]
  },
  {
   "cell_type": "code",
   "execution_count": 37,
   "metadata": {
    "collapsed": false
   },
   "outputs": [],
   "source": [
    "col_labels = {\n",
    "\"<4999\": \"< $5k\",\n",
    "\"5000 - 9999\": \"$5k - 10k\",\n",
    "\"10000 - 14999\": \"$10k - 15k\",\n",
    "\"15000 - 19999\": \"$15k - 20k\",\n",
    "\"20000 - 24999\": \"$20k - 25k\",\n",
    "\"25000 - 29999\": \"$25k - 30k\",\n",
    "\"30000 - 34999\": \"$30k - 35k\",\n",
    "\"35000 - 39999\": \"$35k - 40k\",\n",
    "\"40000 - 44999\": \"$40k - 45k\",\n",
    "\"45000 - 49999\": \"$45k - 50k\",\n",
    "\"50000 - 54999\": \"$50k - 55k\",\n",
    "\"55000 - 59999\": \"$55k - 60k\",\n",
    "\"60000 - 69999\": \"$60k - 70k\",\n",
    "\"70000 - 79999\": \"$70k - 80k\",\n",
    "\"80000 - 89999\": \"$80k - 90k\",\n",
    "\"90000 - 99999\": \"$90k - 100k\",\n",
    "\"100000 - 149999\": \"$100k - 150k\",\n",
    "\"150000 - 249999\": \"$150k - 250k\",\n",
    "\">250000\": \"> $250k\"}\n",
    "\n",
    "col_labels_04_08 = {\n",
    "'<0': '< $0',\n",
    "\"1 - 10000\": \"$1 - 10k\",\n",
    "\"10000 - 15000\": \"$10k - 15k\",\n",
    "\"15000 - 20000\": \"$15k - 20k\",\n",
    "\"20000 - 25000\": \"$20k - 25k\",\n",
    "\"25000 - 30000\": \"$25k - 30k\",\n",
    "\"30000 - 35000\": \"$30k - 35k\",\n",
    "\"35000 - 40000\": \"$35k - 40k\",\n",
    "\"40000 - 45000\": \"$40k - 45k\",\n",
    "\"45000 - 50000\": \"$45k - 50k\",\n",
    "\"50000 - 60000\": \"$50k - 60k\",\n",
    "\"60000 - 70000\": \"$60k - 70k\",\n",
    "\"70000 - 80000\": \"$70k - 80k\",\n",
    "\"80000 - 90000\": \"$80k - 90k\",\n",
    "\"90000 - 100000\": \"$90k - 100k\",\n",
    "\"100000 - 150000\": \"$100k - 150k\",\n",
    "\"150000 - 250000\": \"$150k - 250k\",\n",
    "\">250000\": \"> $250k\"}"
   ]
  },
  {
   "cell_type": "code",
   "execution_count": 29,
   "metadata": {
    "collapsed": false
   },
   "outputs": [],
   "source": [
    "def rename_cols(df, col_label_dict):\n",
    "    for col in df.columns:\n",
    "        if col in col_label_dict:\n",
    "            df[col_label_dict[col]] = df[col]\n",
    "            del df[col]\n",
    "    return df"
   ]
  },
  {
   "cell_type": "code",
   "execution_count": 30,
   "metadata": {
    "collapsed": false
   },
   "outputs": [],
   "source": [
    "df_master = rename_cols(df_master, col_labels)\n",
    "dfo2 = rename_cols(dfo2, col_labels_04_08)"
   ]
  },
  {
   "cell_type": "code",
   "execution_count": 31,
   "metadata": {
    "collapsed": false
   },
   "outputs": [],
   "source": [
    "ordered_cols = ['item', 'type', 'tax_year', 'total', \n",
    "                '< $5k', '$5k - 10k', '$10k - 15k', \n",
    "                '$15k - 20k', '$20k - 25k', '$25k - 30k',\n",
    "                '$30k - 35k', '$35k - 40k', '$40k - 45k',\n",
    "                '$45k - 50k', '$50k - 55k', '$55k - 60k',\n",
    "                '$60k - 70k', '$70k - 80k', '$80k - 90k',\n",
    "                '$90k - 100k', '$100k - 150k', '$150k - 250k', \n",
    "                '> $250k']"
   ]
  },
  {
   "cell_type": "code",
   "execution_count": 32,
   "metadata": {
    "collapsed": false
   },
   "outputs": [],
   "source": [
    "df_master = df_master[ordered_cols]"
   ]
  },
  {
   "cell_type": "markdown",
   "metadata": {},
   "source": [
    "## Adjust to 2015 dollars and multiply the dollar amounts by 1000"
   ]
  },
  {
   "cell_type": "markdown",
   "metadata": {},
   "source": [
    "Using the december to december inflation rates from:  http://www.inflation.eu/inflation-rates/canada/historic-inflation/cpi-inflation-canada.aspx"
   ]
  },
  {
   "cell_type": "code",
   "execution_count": 33,
   "metadata": {
    "collapsed": false
   },
   "outputs": [],
   "source": [
    "inflation_rate = {2014: 1.47, 2013: 1.24, 2012: 0.83,\n",
    "    2011: 2.30, 2010: 2.35, 2009: 1.32,\n",
    "    2008: 1.16, 2007: 2.38, 2006: 1.67,\n",
    "    2005: 2.09, 2004: 2.13}\n",
    "\n",
    "inflation_multipliers = {}\n",
    "for yr_rate in inflation_rate:\n",
    "    for yr_mult in range(2004, yr_rate+1):\n",
    "        if yr_mult in inflation_multipliers:\n",
    "            inflation_multipliers[yr_mult] = (1. + 0.01*inflation_rate[yr_rate]) * inflation_multipliers[yr_mult]\n",
    "        else:\n",
    "            inflation_multipliers[yr_mult] = 1."
   ]
  },
  {
   "cell_type": "code",
   "execution_count": 34,
   "metadata": {
    "collapsed": false
   },
   "outputs": [],
   "source": [
    "def adjust_dollar_amounts(df):\n",
    "    for i in df.index:\n",
    "        tax_year = df.tax_year[i]\n",
    "        print i,\n",
    "        if df.type[i] == '$':\n",
    "            for col in set(df.columns).difference(set(['item', 'type', 'tax_year'])):\n",
    "                df.ix[i, col] = 1000. * inflation_multipliers[tax_year] * df[col][i]\n",
    "    return df"
   ]
  },
  {
   "cell_type": "code",
   "execution_count": 35,
   "metadata": {
    "collapsed": false
   },
   "outputs": [
    {
     "name": "stdout",
     "output_type": "stream",
     "text": [
      "0 1 2 3 4 5 6 7 8 9 10 11 12 13 14 15 16 17 18 19 20 21 22 23 24 25 26 27 28 29 30 31 32 33 34 35 36 37 38 39 40 41 42 43 44 45 46 47 48 49 50 51 52 53 54 55 56 57 58 59 60 61 62 63 64 65 66 67 68 69 70 71 72 73 74 75 76 77 78 79 80 81 82 83 84 85 86 87 88 89 90 91 92 93 94 95 96 97 98 99 100 101 102 103 104 105 106 107 108 109 110 111 112 113 114 115 116 117 118 119 120 121 122 123 124 125 126 127 128 129 130 131 132 133 134 135 136 137 138 139 140 141 142 143 144 145 146 147 148 149 150 151 152 153 154 155 156 157 158 159 160 161 162 163 164 165 166 167 168 169 170 171 172 173 174 175 176 177 178 179 180 181 182 183 184 185 186 187 188 189 190 191 192 193 194 195 196 197 198 199 200 201 202 203 204 205 206 207 208 209 210 211 212 213 214 215 216 217 218 219 220 221 222 223 224 225 226 227 228 229 230 231 232 233 234 235 236 237 238 239 240 241 242 243 244 245 246 247 248 249 250 251 252 253 254 255 256 257 258 259 260 261 262 263 264 265 266 267 268 269 270 271 272 273 274 275 276 277 278 279 280 281 282 283 284 285 286 287 288 289 290 291 292 293 294 295 296 297 298 299 300 301 302 303 304 305 306 307 308 309 310 311 312 313 314 315 316 317 318 319 320 321 322 323 324 325 326 327 328 329 330 331 332 333 334 335 336 337 338 339 340 341 342 343 344 345 346 347 348 349 350 351 352 353 354 355 356 357 358 359 360 361 362 363 364 365 366 367 368 369 370 371 372 373 374 375 376 377 378 379 380 381 382 383 384 385 386 387 388 389 390 391 392 393 394 395 396 397 398 399 400 401 402 403 404 405 406 407 408 409 410 411 412 413 414 415 416 417 418 419 420 421 422 423 424 425 426 427 428 429 430 431 432 433 434 435 436 437 438 439 440 441 442 443 444 445 446 447 448 449 450 451 452 453 454 455 456 457 458 459 460 461 462 463 464 465 466 467 468 469 470 471 472 473 474 475 476 477 478 479 480 481 482 483 484 485 486 487 488 489 490 491 492 493 494 495 496 497 498 499 500 501 502 503 504 505 506 507 508 509 510 511 512 513 514 515 516 517 518 519 520 521 522 523 524 525 526 527 528 529 530 531 532 533 534 535 536 537 538 539 540 541 542 543 544 545 546 547 548 549 550 551 552 553 554 555 556 557 558 559 560 561 562 563 564 565 566 567 568 569 570 571 572 573 574 575 576 577 578 579 580 581 582 583 584 585 586 587 588 589 590 591 592 593 594 595 596 597 598 599 600 601 602 603 604 605 606 607 608 609 610 611 612 613 614 615 616 617 618 619 620 621 622 623 624 625 626 627 628 629 630 631 632 633 634 635 636 637 638 639 640 641 642 643 644 645 646 647 648 649 650 651 652 653 654 655 656 657 658 659 660 661 662 663 664 665 666 667 668 669 670 671 672 673 674 675 676 677 678 679 680 681 682 683 684 685 686 687 688 689 690 691 692 693 694 695 696 697 698 699 700 701 702 703 704 705 706 707 708 709 710 711 712 713 714 715 716 717 718 719 720 721 722 723 724 725 726 727 728 729 730 731 732 733 734 735 736 737 738 739 740 741 742 743 744 745 746 747 748 749 750 751 752 753 754 755 756 757 758 759 760 761 762 763 764 765 766 767 768 769 770 771 772 773 774 775 776 777 778 779 780 781 782 783 784 785 786 787 788 789 790 791 792 793 794 795 796 797 798 799 800 801 802 803 804 805 806 807 808 809 810 811 812 813 814 815 816 817 818 819 820 821 822 823 824 825 826 827 828 829 830 831 832 833 834 835 836 837 838 839 840 841 842 843 844 845 846 847 848 849 850 851 852 853 854 855 856 857 858 859 860 861 862 863 864 865 866 867 868 869 870 871 872 873 874 875 0 1 2 3 4 5 6 7 8 9 10 11 12 13 14 15 16 17 18 19 20 21 22 23 24 25 26 27 28 29 30 31 32 33 34 35 36 37 38 39 40 41 42 43 44 45 46 47 48 49 50 51 52 53 54 55 56 57 58 59 60 61 62 63 64 65 66 67 68 69 70 71 72 73 74 75 76 77 78 79 80 81 82 83 84 85 86 87 88 89 90 91 92 93 94 95 96 97 98 99 100 101 102 103 104 105 106 107 108 109 110 111 112 113 114 115 116 117 118 119 120 121 122 123 124 125 126 127 128 129 130 131 132 133 134 135 136 137 138 139 140 141 142 143 144 145 146 147 148 149 150 151 152 153 154 155 156 157 158 159 160 161 162 163 164 165 166 167 168 169 170 171 172 173 174 175 176 177 178 179 180 181 182 183 184 185 186 187 188 189 190 191 192 193 194 195 196 197 198 199 200 201 202 203 204 205 206 207 208 209 210 211 212 213 214 215 216 217 218 219 220 221 222 223 224 225 226 227 228 229 230 231 232 233 234 235 236 237 238 239 240 241 242 243 244 245 246 247 248 249 250 251 252 253 254 255 256 257 258 259 260 261 262 263 264 265 266 267 268 269 270 271 272 273 274 275 276 277 278 279 280 281 282 283 284 285 286 287 288 289 290 291 292 293 294 295 296 297 298 299 300 301 302 303 304 305 306 307 308 309 310 311 312 313 314 315 316 317 318 319 320 321 322 323 324 325 326 327 328 329 330 331 332 333 334 335 336 337 338 339 340 341 342 343 344 345 346 347 348 349 350 351 352 353 354 355 356 357 358 359 360 361 362 363 364 365 366 367 368 369 370 371 372 373 374 375 376 377 378 379 380 381 382 383 384 385 386 387 388 389 390 391 392 393 394 395 396 397 398 399 400 401 402 403 404 405 406 407 408 409 410 411 412 413 414 415 416 417 418 419 420 421 422 423 424 425 426 427 428 429 430 431 432 433 434 435 436 437 438 439 440 441 442 443 444 445 446 447 448 449 450 451 452 453 454 455 456 457 458 459 460 461 462 463 464 465 466 467 468 469 470 471 472 473 474 475 476 477 478 479 480 481 482 483 484 485 486 487 488 489 490 491 492 493 494 495 496 497 498 499 500 501 502 503 504 505 506 507 508 509 510 511 512 513 514 515 516 517 518 519 520 521 522 523 524 525 526 527 528 529 530 531 532 533 534 535 536 537 538 539 540 541 542 543 544 545 546 547 548 549 550 551 552 553 554 555 556 557 558 559 560 561 562 563 564 565 566 567 568 569 570 571 572 573 574 575 576 577 578 579 580 581 582 583 584 585 586 587 588 589 590 591 592 593 594 595 596 597 598 599 600 601 602 603 604 605 606 607 608 609 610 611 612 613 614 615 616 617 618 619 620 621 622 623 624 625 626 627 628 629 630 631 632 633 634 635 636 637 638 639 640 641\n"
     ]
    }
   ],
   "source": [
    "df_master = adjust_dollar_amounts(df_master)\n",
    "dfo2 = adjust_dollar_amounts(dfo2)"
   ]
  },
  {
   "cell_type": "code",
   "execution_count": 36,
   "metadata": {
    "collapsed": false
   },
   "outputs": [],
   "source": [
    "df_master.to_csv('../data/tax_data_unclean_items.csv')\n",
    "dfo2.to_csv('../data/tax_data_unclean_items_04_08.csv')"
   ]
  },
  {
   "cell_type": "markdown",
   "metadata": {},
   "source": [
    "## Save point 2"
   ]
  },
  {
   "cell_type": "code",
   "execution_count": 1,
   "metadata": {
    "collapsed": false
   },
   "outputs": [],
   "source": [
    "import pandas as pd\n",
    "df_master = pd.DataFrame.from_csv('../data/tax_data_unclean_items.csv')\n",
    "dfo2 = pd.DataFrame.from_csv('../data/tax_data_unclean_items_04_08.csv')"
   ]
  },
  {
   "cell_type": "markdown",
   "metadata": {},
   "source": [
    "## Standardize the item titles"
   ]
  },
  {
   "cell_type": "code",
   "execution_count": 2,
   "metadata": {
    "collapsed": false
   },
   "outputs": [
    {
     "name": "stdout",
     "output_type": "stream",
     "text": [
      "149\n",
      "224\n"
     ]
    }
   ],
   "source": [
    "print len(set(df_master['item']))\n",
    "print len(set(dfo2['item']))"
   ]
  },
  {
   "cell_type": "code",
   "execution_count": 3,
   "metadata": {
    "collapsed": false
   },
   "outputs": [
    {
     "data": {
      "text/plain": [
       "<module 'item_synonyms' from 'item_synonyms.pyc'>"
      ]
     },
     "execution_count": 3,
     "metadata": {},
     "output_type": "execute_result"
    }
   ],
   "source": [
    "import item_synonyms\n",
    "reload(item_synonyms)"
   ]
  },
  {
   "cell_type": "code",
   "execution_count": 4,
   "metadata": {
    "collapsed": false
   },
   "outputs": [],
   "source": [
    "synonym_dict = {}\n",
    "for li in item_synonyms.synonyms:\n",
    "    if len(li) > 1:\n",
    "        for item in li:\n",
    "            synonym_dict[item] = li[0]"
   ]
  },
  {
   "cell_type": "code",
   "execution_count": 5,
   "metadata": {
    "collapsed": false
   },
   "outputs": [],
   "source": [
    "def clean_item_names(df, synonym_dict):\n",
    "    for i in df.index:\n",
    "        if df.item[i] in synonym_dict.keys():\n",
    "            df.ix[i, 'item'] = synonym_dict[df.item[i]]\n",
    "    return df"
   ]
  },
  {
   "cell_type": "code",
   "execution_count": 6,
   "metadata": {
    "collapsed": false
   },
   "outputs": [],
   "source": [
    "df_master = clean_item_names(df_master, synonym_dict)\n",
    "dfo2 = clean_item_names(dfo2, synonym_dict)"
   ]
  },
  {
   "cell_type": "code",
   "execution_count": 7,
   "metadata": {
    "collapsed": false
   },
   "outputs": [],
   "source": [
    "dfo2.to_csv('../data/all_clean_tax_data_04_08.csv')\n",
    "df_master.to_csv('../data/all_clean_tax_data.csv')"
   ]
  },
  {
   "cell_type": "markdown",
   "metadata": {},
   "source": [
    "### Save point 3 "
   ]
  },
  {
   "cell_type": "code",
   "execution_count": 8,
   "metadata": {
    "collapsed": false
   },
   "outputs": [],
   "source": [
    "import pandas as pd\n",
    "df_master = pd.DataFrame.from_csv('../data/all_clean_tax_data.csv')\n",
    "dfo2 = pd.DataFrame.from_csv('../data/all_clean_tax_data_04_08.csv')"
   ]
  },
  {
   "cell_type": "markdown",
   "metadata": {},
   "source": [
    "### Let's try combining the 50-55k and 55-60k columns for the 2009-12 data to match up better with 2004-08"
   ]
  },
  {
   "cell_type": "code",
   "execution_count": 9,
   "metadata": {
    "collapsed": false
   },
   "outputs": [
    {
     "data": {
      "text/plain": [
       "Index([u'item', u'type', u'tax_year', u'total', u'< $5k', u'$5k - 10k', u'$10k - 15k', u'$15k - 20k', u'$20k - 25k', u'$25k - 30k', u'$30k - 35k', u'$35k - 40k', u'$40k - 45k', u'$45k - 50k', u'$50k - 55k', u'$55k - 60k', u'$60k - 70k', u'$70k - 80k', u'$80k - 90k', u'$90k - 100k', u'$100k - 150k', u'$150k - 250k', u'> $250k'], dtype='object')"
      ]
     },
     "execution_count": 9,
     "metadata": {},
     "output_type": "execute_result"
    }
   ],
   "source": [
    "df_master.columns"
   ]
  },
  {
   "cell_type": "code",
   "execution_count": 10,
   "metadata": {
    "collapsed": false
   },
   "outputs": [],
   "source": [
    "df_master['$50k - 60k'] = (df_master['$50k - 55k'] + df_master['$55k - 60k'])"
   ]
  },
  {
   "cell_type": "code",
   "execution_count": 11,
   "metadata": {
    "collapsed": false
   },
   "outputs": [],
   "source": [
    "del df_master['$50k - 55k']\n",
    "del df_master['$55k - 60k']"
   ]
  },
  {
   "cell_type": "code",
   "execution_count": 12,
   "metadata": {
    "collapsed": false
   },
   "outputs": [],
   "source": [
    "new_ordered_cols = ['item', 'type', 'tax_year', 'total', \n",
    "                '< $5k', '$5k - 10k', '$10k - 15k', \n",
    "                '$15k - 20k', '$20k - 25k', '$25k - 30k',\n",
    "                '$30k - 35k', '$35k - 40k', '$40k - 45k',\n",
    "                '$45k - 50k', '$50k - 60k',\n",
    "                '$60k - 70k', '$70k - 80k', '$80k - 90k',\n",
    "                '$90k - 100k', '$100k - 150k', '$150k - 250k', \n",
    "                '> $250k']"
   ]
  },
  {
   "cell_type": "code",
   "execution_count": 13,
   "metadata": {
    "collapsed": false
   },
   "outputs": [],
   "source": [
    "df_master = df_master[new_ordered_cols]"
   ]
  },
  {
   "cell_type": "code",
   "execution_count": 14,
   "metadata": {
    "collapsed": false
   },
   "outputs": [],
   "source": [
    "df_master.to_csv('../data/all_clean_tax_data_fewer_cols.csv')"
   ]
  },
  {
   "cell_type": "markdown",
   "metadata": {},
   "source": [
    "### Try to fix some of the item naming problems"
   ]
  },
  {
   "cell_type": "code",
   "execution_count": 15,
   "metadata": {
    "collapsed": false
   },
   "outputs": [],
   "source": [
    "old_tax_yrs = dfo2.query(\"type == '$' and item == 'CPP or QPP benefits'\").tax_year"
   ]
  },
  {
   "cell_type": "code",
   "execution_count": 16,
   "metadata": {
    "collapsed": false,
    "scrolled": false
   },
   "outputs": [
    {
     "name": "stdout",
     "output_type": "stream",
     "text": [
      "CPP contributions on self-employment [2005, 2006, 2007, 2008, 2009, 2010, 2011, 2012]\n",
      "CPP or QPP benefits [2004, 2005, 2006, 2007, 2008, 2009, 2010, 2011, 2012]\n",
      "CPP or QPP contributions [2004, 2005, 2006, 2007, 2008]\n",
      "CPP or QPP contributions on employment [2009, 2010, 2011, 2012]\n",
      "CPP or QPP contributions on self-employment [2004, 2005, 2006, 2007, 2008, 2009, 2010, 2011, 2012]\n",
      "Canada employment amount [2006, 2007, 2008, 2009, 2010, 2011, 2012]\n",
      "Canadian Forces personnel and police deduction [2009, 2010, 2011, 2012]\n",
      "EI benefits [2004, 2005, 2006, 2007, 2008, 2009, 2010, 2011, 2012]\n",
      "EI premiums [2004, 2005, 2006, 2007, 2008, 2009, 2010, 2011, 2012]\n",
      "EI premiums on self-employment and other eligible earnings [2010, 2011, 2012]\n"
     ]
    }
   ],
   "source": [
    "its = list(set(df_master.item).union(set(dfo2.item)))\n",
    "its.sort()\n",
    "for item in its[:10]:\n",
    "    new_tax_yrs = list(df_master.query(\"type == '$' and item == @item\").tax_year)\n",
    "    old_tax_yrs = list(dfo2.query(\"type == '$' and item == @item\").tax_year)\n",
    "    new_tax_yrs.sort()\n",
    "    old_tax_yrs.sort()\n",
    "    print item, old_tax_yrs + new_tax_yrs"
   ]
  },
  {
   "cell_type": "markdown",
   "metadata": {},
   "source": [
    "### Deleteing problem rows"
   ]
  },
  {
   "cell_type": "code",
   "execution_count": 17,
   "metadata": {
    "collapsed": false
   },
   "outputs": [],
   "source": [
    "# 2004, social benefits repayment\n",
    "def drop_row(item, year, df):\n",
    "    indexes_2_drop = df.query(\"item == @item and tax_year == @year\").index\n",
    "    df = df.drop(indexes_2_drop)\n",
    "    return df"
   ]
  },
  {
   "cell_type": "code",
   "execution_count": 18,
   "metadata": {
    "collapsed": false
   },
   "outputs": [],
   "source": [
    "dfo2 = drop_row('social benefits repayment', 2004, dfo2)\n",
    "dfo2 = drop_row('Federal Tax', 2004, dfo2)\n",
    "dfo2.index = range(len(dfo2))"
   ]
  },
  {
   "cell_type": "code",
   "execution_count": 27,
   "metadata": {
    "collapsed": false
   },
   "outputs": [],
   "source": [
    "import numpy as np\n",
    "x = np.nan"
   ]
  },
  {
   "cell_type": "code",
   "execution_count": 42,
   "metadata": {
    "collapsed": false
   },
   "outputs": [],
   "source": [
    "val_cols = set(df_master.columns).difference(set(['item', 'type', 'tax_year', 'total']))\n",
    "nan_rows = set()\n",
    "for c in val_cols:\n",
    "    nan_rows = nan_rows.union(set(list(df_master[c].index[df_master[c].apply(np.isnan)])))"
   ]
  },
  {
   "cell_type": "code",
   "execution_count": 43,
   "metadata": {
    "collapsed": false
   },
   "outputs": [
    {
     "data": {
      "text/plain": [
       "{15,\n",
       " 48,\n",
       " 51,\n",
       " 54,\n",
       " 72,\n",
       " 98,\n",
       " 99,\n",
       " 102,\n",
       " 103,\n",
       " 108,\n",
       " 109,\n",
       " 438,\n",
       " 439,\n",
       " 440,\n",
       " 453,\n",
       " 486,\n",
       " 489,\n",
       " 492,\n",
       " 510,\n",
       " 536,\n",
       " 537,\n",
       " 540,\n",
       " 541,\n",
       " 546,\n",
       " 547}"
      ]
     },
     "execution_count": 43,
     "metadata": {},
     "output_type": "execute_result"
    }
   ],
   "source": [
    "nan_rows"
   ]
  },
  {
   "cell_type": "markdown",
   "metadata": {},
   "source": [
    "After checking these out, it appears all the nans should be zeros. But this is how nans are represented in the web page anyway, so no changes are necessary."
   ]
  },
  {
   "cell_type": "markdown",
   "metadata": {},
   "source": [
    "### Converting to JSON"
   ]
  },
  {
   "cell_type": "code",
   "execution_count": 50,
   "metadata": {
    "collapsed": false
   },
   "outputs": [],
   "source": [
    "def write_df_to_json(df, open_file, last_write=True):\n",
    "    for i in df.index:\n",
    "        row_str = '{'\n",
    "        for j, c in enumerate(df.columns):\n",
    "            row_str += '\"' + c + '\"' + ': ' + '\"' + str(df[c][i]) \n",
    "            if j+1 == len(df.columns): row_str += '\"'\n",
    "            else: row_str += '\", '\n",
    "        if i+1 == len(df) and last_write: row_str += '}\\n'\n",
    "        else: row_str += '},\\n'\n",
    "        open_file.write(row_str)"
   ]
  },
  {
   "cell_type": "code",
   "execution_count": 51,
   "metadata": {
    "collapsed": false
   },
   "outputs": [],
   "source": [
    "f = open('../data/data.json', 'w')\n",
    "f.write('[')\n",
    "write_df_to_json(df_master, f, last_write=False)\n",
    "write_df_to_json(dfo2, f, last_write=True)\n",
    "f.write(']')\n",
    "f.close()"
   ]
  },
  {
   "cell_type": "code",
   "execution_count": null,
   "metadata": {
    "collapsed": false
   },
   "outputs": [],
   "source": []
  }
 ],
 "metadata": {
  "kernelspec": {
   "display_name": "Python 2",
   "language": "python",
   "name": "python2"
  },
  "language_info": {
   "codemirror_mode": {
    "name": "ipython",
    "version": 2
   },
   "file_extension": ".py",
   "mimetype": "text/x-python",
   "name": "python",
   "nbconvert_exporter": "python",
   "pygments_lexer": "ipython2",
   "version": "2.7.10"
  }
 },
 "nbformat": 4,
 "nbformat_minor": 0
}
